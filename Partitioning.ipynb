{
 "cells": [
  {
   "cell_type": "code",
   "execution_count": 0,
   "metadata": {
    "application/vnd.databricks.v1+cell": {
     "cellMetadata": {
      "byteLimit": 2048000,
      "rowLimit": 10000
     },
     "inputWidgets": {},
     "nuid": "c49c5822-fa9b-4b60-a81b-2fee9d997d7a",
     "showTitle": false,
     "tableResultSettingsMap": {},
     "title": ""
    }
   },
   "outputs": [],
   "source": [
    "spark.sql(\"USE CATALOG hive_metastore\")\n",
    "storage_account = \"databricks180820251\"\n"
   ]
  },
  {
   "cell_type": "code",
   "execution_count": 0,
   "metadata": {
    "application/vnd.databricks.v1+cell": {
     "cellMetadata": {
      "byteLimit": 2048000,
      "rowLimit": 10000
     },
     "inputWidgets": {},
     "nuid": "aa4665b1-fedf-4ae6-b3fb-413686b49208",
     "showTitle": false,
     "tableResultSettingsMap": {},
     "title": ""
    }
   },
   "outputs": [],
   "source": [
    "df = spark.sql(\"select * from retail_silver.orders\")\n",
    "df.write.mode(\"overwrite\").option(\"path\",f\"abfss://silver@{storage_account}.dfs.core.windows.net/retail/ordersPartined\").option(\"mergeSchema\",\"true\").partitionBy(\"order_date\").saveAsTable(f\"retail_silver.ordersPartined\")"
   ]
  },
  {
   "cell_type": "code",
   "execution_count": 0,
   "metadata": {
    "application/vnd.databricks.v1+cell": {
     "cellMetadata": {
      "byteLimit": 2048000,
      "implicitDf": true,
      "rowLimit": 10000
     },
     "inputWidgets": {},
     "nuid": "6977526d-11a3-4127-9b5e-991cefda03a9",
     "showTitle": false,
     "tableResultSettingsMap": {},
     "title": ""
    }
   },
   "outputs": [],
   "source": [
    "%sql\n",
    "select count(distinct(order_date))  from retail_silver.ordersPartined"
   ]
  },
  {
   "cell_type": "code",
   "execution_count": 0,
   "metadata": {
    "application/vnd.databricks.v1+cell": {
     "cellMetadata": {
      "byteLimit": 2048000,
      "rowLimit": 10000
     },
     "inputWidgets": {},
     "nuid": "ceaac0e5-d3ab-418f-bc3f-3b8561830480",
     "showTitle": false,
     "tableResultSettingsMap": {},
     "title": ""
    }
   },
   "outputs": [],
   "source": [
    "df = spark.sql(\"select * from retail_silver.orders\")\n",
    "\n",
    "df.write.mode(\"overwrite\").option(\"path\",f\"abfss://silver@{storage_account}.dfs.core.windows.net/retail/ordersPartined_multi_col\").option(\"mergeSchema\",\"true\").partitionBy(\"order_date\",\"order_status\").saveAsTable(f\"retail_silver.ordersPartined_multi_col\")"
   ]
  },
  {
   "cell_type": "code",
   "execution_count": 0,
   "metadata": {
    "application/vnd.databricks.v1+cell": {
     "cellMetadata": {
      "byteLimit": 2048000,
      "rowLimit": 10000
     },
     "inputWidgets": {},
     "nuid": "44c22ae6-a9b5-47be-9af9-9947ffa68f8e",
     "showTitle": false,
     "tableResultSettingsMap": {},
     "title": ""
    }
   },
   "outputs": [],
   "source": [
    "df = spark.sql(\"select * from retail_silver.orders\")\n",
    "df.coalesce(1).write.mode(\"overwrite\").option(\"path\",f\"abfss://silver@{storage_account}.dfs.core.windows.net/retail/ordersPartined_coalesce\").option(\"mergeSchema\",\"true\").saveAsTable(f\"retail_silver.ordersPartined_coalesce\")"
   ]
  },
  {
   "cell_type": "code",
   "execution_count": 0,
   "metadata": {
    "application/vnd.databricks.v1+cell": {
     "cellMetadata": {
      "byteLimit": 2048000,
      "implicitDf": true,
      "rowLimit": 10000
     },
     "inputWidgets": {},
     "nuid": "7bb32405-b60b-45fd-ac80-2e1aa3c43e16",
     "showTitle": false,
     "tableResultSettingsMap": {},
     "title": ""
    }
   },
   "outputs": [],
   "source": [
    "%sql\n",
    "select * from retail_silver.ordersPartined_coalesce"
   ]
  },
  {
   "cell_type": "code",
   "execution_count": 0,
   "metadata": {
    "application/vnd.databricks.v1+cell": {
     "cellMetadata": {
      "byteLimit": 2048000,
      "rowLimit": 10000
     },
     "inputWidgets": {},
     "nuid": "7db25a5e-039b-4ddd-968d-0cf5f1f884fd",
     "showTitle": false,
     "tableResultSettingsMap": {},
     "title": ""
    }
   },
   "outputs": [],
   "source": [
    "df = spark.sql(\"select * from retail_silver.orders\")\n",
    "df.repartition(5).write.mode(\"overwrite\").option(\"path\",f\"abfss://silver@{storage_account}.dfs.core.windows.net/retail/ordersRepartition\").option(\"mergeSchema\",\"true\").saveAsTable(f\"retail_silver.ordersRepartition\")"
   ]
  }
 ],
 "metadata": {
  "application/vnd.databricks.v1+notebook": {
   "computePreferences": null,
   "dashboards": [],
   "environmentMetadata": {
    "base_environment": "",
    "environment_version": "4"
   },
   "inputWidgetPreferences": null,
   "language": "python",
   "notebookMetadata": {
    "mostRecentlyExecutedCommandWithImplicitDF": {
     "commandId": 7882702195061837,
     "dataframes": [
      "_sqldf"
     ]
    },
    "pythonIndentUnit": 4
   },
   "notebookName": "Partitioning",
   "widgets": {}
  },
  "language_info": {
   "name": "python"
  }
 },
 "nbformat": 4,
 "nbformat_minor": 0
}
