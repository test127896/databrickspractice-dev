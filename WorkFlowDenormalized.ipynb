{
 "cells": [
  {
   "cell_type": "code",
   "execution_count": 0,
   "metadata": {
    "application/vnd.databricks.v1+cell": {
     "cellMetadata": {},
     "inputWidgets": {},
     "nuid": "d7e6e626-dee6-4cef-a64a-3bd991680516",
     "showTitle": false,
     "tableResultSettingsMap": {},
     "title": ""
    }
   },
   "outputs": [],
   "source": [
    "\n",
    "storage_account = \"databricks180820251\"\n",
    "spark.sql(\"USE CATALOG hive_metastore\")"
   ]
  },
  {
   "cell_type": "code",
   "execution_count": 0,
   "metadata": {
    "application/vnd.databricks.v1+cell": {
     "cellMetadata": {},
     "inputWidgets": {},
     "nuid": "2f44bde5-4868-4398-8732-6ff02554bfe3",
     "showTitle": false,
     "tableResultSettingsMap": {},
     "title": ""
    }
   },
   "outputs": [],
   "source": [
    "spark.sql(\"create database if not exists retail_gold\")"
   ]
  },
  {
   "cell_type": "code",
   "execution_count": 0,
   "metadata": {
    "application/vnd.databricks.v1+cell": {
     "cellMetadata": {},
     "inputWidgets": {},
     "nuid": "531f47ce-cdc5-45a4-a049-021dc5bf4119",
     "showTitle": false,
     "tableResultSettingsMap": {},
     "title": ""
    }
   },
   "outputs": [],
   "source": [
    "df = spark.sql(\"\"\"select o.order_id as order_id, o.order_date as order_date, o.order_status as order_status ,\n",
    "             oi.id as orderItem_id, oi.product_id as product_id,oi.quantity as quantity, OI.total as total,\n",
    "             oi.price as price\n",
    "               from retail_test.orders o join retail_test.orderitems oi on o.order_id = oi.order_id\"\"\"\");"
   ]
  },
  {
   "cell_type": "code",
   "execution_count": 0,
   "metadata": {
    "application/vnd.databricks.v1+cell": {
     "cellMetadata": {},
     "inputWidgets": {},
     "nuid": "efb5a43b-358d-4ab9-b785-085e34242b6c",
     "showTitle": false,
     "tableResultSettingsMap": {},
     "title": ""
    }
   },
   "outputs": [],
   "source": [
    "df.write.option(\"path\",f\"abfss://gold@{storage_account}.dfs.core.windows.net/retail/singleData\").option(\"mergeschema\",\"true\").mode(\"overwrite\").saveAsTable(\"retail_gold.singleData\")"
   ]
  }
 ],
 "metadata": {
  "application/vnd.databricks.v1+notebook": {
   "computePreferences": null,
   "dashboards": [],
   "environmentMetadata": {
    "base_environment": "",
    "environment_version": "4"
   },
   "inputWidgetPreferences": null,
   "language": "python",
   "notebookMetadata": {
    "pythonIndentUnit": 4
   },
   "notebookName": "WorkFlowDenormalized",
   "widgets": {}
  },
  "language_info": {
   "name": "python"
  }
 },
 "nbformat": 4,
 "nbformat_minor": 0
}
